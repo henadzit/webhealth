{
 "cells": [
  {
   "cell_type": "code",
   "execution_count": 12,
   "metadata": {
    "collapsed": false
   },
   "outputs": [
    {
     "name": "stdout",
     "output_type": "stream",
     "text": [
      "Probe count: 121\n",
      "simonandschuster.com 40\n",
      "natura.net 40\n",
      "18touch.com 35\n",
      "yves-rocher.fr 30\n",
      "policybazaar.com 26\n",
      "arwholesale.co.uk 20\n",
      "booklooker.de 20\n",
      "icai.org 15\n",
      "yeyou.com 14\n",
      "your-diet.ru 13\n",
      "destockplus.com 13\n",
      "kpmg.com 13\n",
      "terrenouvelle.ca 12\n",
      "boohee.com 12\n",
      "live800.com 11\n",
      "tvoytrener.com 10\n",
      "kimiss.com 9\n",
      "mhhe.com 9\n",
      "bangkokbank.com 9\n",
      "27.cn 9\n",
      "emeraldinsight.com 9\n",
      "ogilvy.com 9\n",
      "maybelline.com 8\n",
      "kotak.com 8\n",
      "mutuelle.fr 7\n",
      "movie.douban.com 6\n",
      "norauto.fr 5\n",
      "akwholesale.com 5\n",
      "bnfusa.com 5\n",
      "paperbackswap.com 4\n",
      "tor.com 4\n",
      "mp3.zing.vn 4\n",
      "chouftv.ma 3\n",
      "hdfclife.com 3\n",
      "styleite.com 3\n",
      "accesstage.com.br 3\n",
      "phim14.net 3\n",
      "scholastic.com 3\n",
      "fashion.ifeng.com 3\n"
     ]
    }
   ],
   "source": [
    "%matplotlib inline\n",
    "\n",
    "db='webhealth'\n",
    "username='root'\n",
    "password=''\n",
    "\n",
    "import MySQLdb\n",
    "\n",
    "db = MySQLdb.connect(host='localhost',\n",
    "                     user=username,\n",
    "                     passwd=password,\n",
    "                     db=db)\n",
    "\n",
    "# this assumes that all website got equal number of probes\n",
    "c = db.cursor()\n",
    "c.execute('select count(*) as c from metrics group by website order by c desc')\n",
    "probe_count = int(c.fetchone()[0])\n",
    "c.close()\n",
    "\n",
    "print \"Probe count: {}\".format(probe_count)\n",
    "\n",
    "c = db.cursor()\n",
    "c.execute('''select website, count(*) as c from metrics \n",
    "where reason != 0 \n",
    "group by website \n",
    "having count(*) > 2 \n",
    "order by c desc''')\n",
    "\n",
    "for i in range(c.rowcount):\n",
    "    website, count = c.fetchone()\n",
    "    count = int(count)\n",
    "    \n",
    "    # filtering out website with >0.5 failure rate\n",
    "    if float(count) / probe_count < 0.5:\n",
    "        print website, count\n",
    "c.close()"
   ]
  },
  {
   "cell_type": "code",
   "execution_count": null,
   "metadata": {
    "collapsed": true
   },
   "outputs": [],
   "source": []
  },
  {
   "cell_type": "code",
   "execution_count": null,
   "metadata": {
    "collapsed": true
   },
   "outputs": [],
   "source": []
  }
 ],
 "metadata": {
  "kernelspec": {
   "display_name": "Python 2",
   "language": "python",
   "name": "python2"
  },
  "language_info": {
   "codemirror_mode": {
    "name": "ipython",
    "version": 2
   },
   "file_extension": ".py",
   "mimetype": "text/x-python",
   "name": "python",
   "nbconvert_exporter": "python",
   "pygments_lexer": "ipython2",
   "version": "2.7.6"
  }
 },
 "nbformat": 4,
 "nbformat_minor": 0
}
